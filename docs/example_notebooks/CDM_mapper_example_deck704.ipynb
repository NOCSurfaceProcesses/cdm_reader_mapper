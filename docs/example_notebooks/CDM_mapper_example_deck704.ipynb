{
 "cells": [
  {
   "cell_type": "markdown",
   "metadata": {},
   "source": [
    "## Mapping supplemental data from deck 704 to a CDM\n",
    "\n",
    "This guide is a follow up from the [mdf_reader()](https://git.noc.ac.uk/brecinosrivas/mdf_reader/-/tree/master/) python tool [notebooks](https://git.noc.ac.uk/brecinosrivas/mdf_reader/-/tree/master/docs/notebooks). Where we extracted supplemental metadata from [ICOADSv3.0](https://icoads.noaa.gov/r3.html) stored in the [IMMA](https://icoads.noaa.gov/e-doc/imma/R3.0-imma1.pdf) format. \n",
    "Now we will map this supplemental data to a Common Data Model (CDM) format defined in the following [documentation](https://git.noc.ac.uk/brecinosrivas/cdm-mapper/-/blob/master/docs/cdm_latest.pdf).\n",
    "\n",
    "This is done by using the [cdm-mapper python tool from the branch deck704v0](https://git.noc.ac.uk/brecinosrivas/cdm-mapper/-/tree/deck704v0) and following the workflow explained below. \n",
    "\n",
    "Along this notebook we will also point out Issues found in the cdm-mapper code and the cdm docs. This issues need to be address in the case that we want to map certain variables to the cdm."
   ]
  },
  {
   "cell_type": "markdown",
   "metadata": {},
   "source": [
    "We are analysing deck: `704`, the [US Marine Meteorological Journals Collection](https://icoads.noaa.gov/usmmj.html)"
   ]
  },
  {
   "cell_type": "code",
   "execution_count": null,
   "metadata": {},
   "outputs": [],
   "source": [
    "from __future__ import annotations\n",
    "\n",
    "import os\n",
    "import sys\n",
    "\n",
    "MAIN_PATH = \"/Users/brivas/c3s_work\"\n",
    "sys.path.append(MAIN_PATH)\n",
    "\n",
    "import cdm\n",
    "import mdf_reader\n",
    "import pandas as pd"
   ]
  },
  {
   "cell_type": "markdown",
   "metadata": {},
   "source": [
    "We first read the supplemental data information from the `c99` imma format for a subset of the data (e.g. 1878/10)"
   ]
  },
  {
   "cell_type": "code",
   "execution_count": null,
   "metadata": {},
   "outputs": [],
   "source": [
    "path_to_schema_folder = os.path.join(MAIN_PATH, \"mdf_reader/data_models/lib/\")\n",
    "schema = \"imma1_d704\"\n",
    "\n",
    "data_file_path = os.path.join(\n",
    "    MAIN_PATH, \"mdf_reader/tests/data/125-704_1878-10_subset.imma\"\n",
    ")"
   ]
  },
  {
   "cell_type": "code",
   "execution_count": null,
   "metadata": {},
   "outputs": [],
   "source": [
    "data_raw = mdf_reader.read(data_file_path, data_model=schema)"
   ]
  },
  {
   "cell_type": "markdown",
   "metadata": {},
   "source": [
    "The data from the c99 column for this deck is separated in the following sub sections:\n",
    "- c99_sentinal\n",
    "- c99_journal\n",
    "- c99_voyage\n",
    "- c99_daily\n",
    "- c99_data4\n",
    "- c99_data5"
   ]
  },
  {
   "cell_type": "code",
   "execution_count": null,
   "metadata": {},
   "outputs": [],
   "source": [
    "data_raw.data.c99_sentinal.head()"
   ]
  },
  {
   "cell_type": "code",
   "execution_count": null,
   "metadata": {},
   "outputs": [],
   "source": [
    "pd.options.display.max_columns = None\n",
    "data_raw.data.c99_journal.head()"
   ]
  },
  {
   "cell_type": "code",
   "execution_count": null,
   "metadata": {},
   "outputs": [],
   "source": [
    "data_raw.data.c99_voyage.head()"
   ]
  },
  {
   "cell_type": "code",
   "execution_count": null,
   "metadata": {},
   "outputs": [],
   "source": [
    "data_raw.data.c99_daily.head()"
   ]
  },
  {
   "cell_type": "code",
   "execution_count": null,
   "metadata": {},
   "outputs": [],
   "source": [
    "data_raw.data.c99_data4.head()"
   ]
  },
  {
   "cell_type": "code",
   "execution_count": null,
   "metadata": {},
   "outputs": [],
   "source": [
    "data_raw.data.c99_data5.head()"
   ]
  },
  {
   "cell_type": "markdown",
   "metadata": {},
   "source": [
    "Now that we have separated the c99 data into the different sections, we see that this deck is composed of two types of data, which are the same:\n",
    "    \n",
    "    - c99_data4\n",
    "    - c99_data5\n",
    "    \n",
    "Both sections have the same name in variables. To map the correct section into the CDM it is necessary to impose a filter on the sections composed only of NaN data. \n",
    "The problem is that we dont know which years in the time series will have a section c99_data4 and which will have a c99_data5\n",
    "\n",
    "> Note that this solution of excluding one section, will only work for decks from which sections are exclusive: Among the sections listed in the block, only one of them appears in every report.\n"
   ]
  },
  {
   "cell_type": "markdown",
   "metadata": {},
   "source": [
    "If we introduce this new filter option of NaN in the CDM mapper (more information in [Issue#1](https://git.noc.ac.uk/brecinosrivas/cdm-mapper/-/issues/1)) we can map the correct section to a CDM constructed for deck 704. \n",
    "\n",
    "All the files to map this deck to the CDM are available [here](https://git.noc.ac.uk/brecinosrivas/cdm-mapper/-/tree/deck704v0/lib/mappings/icoads_r3000_d704).\n",
    "\n",
    "The CDM mapper follows this structure:"
   ]
  },
  {
   "cell_type": "code",
   "execution_count": null,
   "metadata": {},
   "outputs": [],
   "source": [
    "from __future__ import annotations\n",
    "\n",
    "from IPython.display import Image\n",
    "\n",
    "Image(filename=\"/Users/brivas/c3s_work/figures/cdm_704.png\")"
   ]
  },
  {
   "cell_type": "markdown",
   "metadata": {},
   "source": [
    "In the [icoads_r300_d704.py](https://git.noc.ac.uk/brecinosrivas/cdm-mapper/-/blob/deck704v0/lib/mappings/icoads_r3000_d704/icoads_r3000_d704.py) file we will write all the functions needed to convert variables to the right units and/or specifications according with the [CDM documentation](https://git.noc.ac.uk/brecinosrivas/cdm-mapper/-/blob/master/docs/cdm_latest.pdf)\n",
    "\n",
    "To run the data model we need three things:\n",
    "\n",
    "- raw data (the data we just read above)\n",
    "- attributes of the raw data (sections and column names)\n",
    "- the name of the model\n",
    "\n",
    "> Note that the model and all necessary files should be already stored in the `cdm-mapper/lib/mappings` directory before you run anything!"
   ]
  },
  {
   "cell_type": "code",
   "execution_count": null,
   "metadata": {},
   "outputs": [],
   "source": [
    "attributes = data_raw.atts.copy()\n",
    "name_of_model = \"icoads_r3000_d704\"\n",
    "\n",
    "cdm_dict = cdm.map_model(\n",
    "    name_of_model, data_raw.data, attributes, cdm_subset=None, log_level=\"INFO\"\n",
    ")"
   ]
  },
  {
   "cell_type": "markdown",
   "metadata": {},
   "source": [
    "Now, have we succeeded in writing some of the data to the CDM format?\n",
    "\n",
    "We were looking to write the following data \n",
    "\n",
    "### Header section\n",
    "\n",
    " - Platform type and sub type\n",
    " - primary station id: original ship names\n",
    " - Longitude and Latitudes: converted from Degrees Minutes and Hemisphere to Decimal degrees\n",
    " - Location accuracy\n",
    " \n",
    " \n",
    "### Observations tables\n",
    "\n",
    "- `Observations-at`: latitude, longitude and location precision\n",
    "- `Observations-dpt`: latitude, longitude and location precision\n",
    "- `Observations-slp`: latitude, longitude and location precision\n",
    "     - z_coordinate_type: Barometer height in feet converted to m.\n",
    "     - original units: written in the CDM code format\n",
    "\n",
    "- `Observations-sst`: latitude, longitude and location precision\n",
    "- `Observations-wbt`: latitude, longitude and location precision\n",
    "- `Observations-wd`: latitude, longitude and location precision\n",
    "- `Observations-ws`: latitude, longitude and location precision\n"
   ]
  },
  {
   "cell_type": "code",
   "execution_count": null,
   "metadata": {},
   "outputs": [],
   "source": [
    "data = cdm_dict[\"header\"][\"data\"]\n",
    "data.head()"
   ]
  },
  {
   "cell_type": "markdown",
   "metadata": {},
   "source": [
    "We now show an example of Lat and Lon"
   ]
  },
  {
   "cell_type": "code",
   "execution_count": null,
   "metadata": {},
   "outputs": [],
   "source": [
    "data.latitude.head(), data.longitude.head()"
   ]
  },
  {
   "cell_type": "code",
   "execution_count": null,
   "metadata": {},
   "outputs": [],
   "source": [
    "data_raw.data.c99_daily[\n",
    "    [\n",
    "        \"lat_deg_on\",\n",
    "        \"lat_min_on\",\n",
    "        \"lat_hemis_on\",\n",
    "        \"lon_deg_of\",\n",
    "        \"lon_min_of\",\n",
    "        \"lon_hemis_of\",\n",
    "    ]\n",
    "].head()"
   ]
  },
  {
   "cell_type": "markdown",
   "metadata": {},
   "source": [
    "This has been succesfully converted to Decimal degrees with the right (-) for each hemisphere. \n",
    "\n",
    "\n",
    "Now for the SLP we have other information:"
   ]
  },
  {
   "cell_type": "code",
   "execution_count": null,
   "metadata": {},
   "outputs": [],
   "source": [
    "data_raw.data.c99_journal[[\"baro_type\", \"baro_height\", \"baro_units\"]].head()"
   ]
  },
  {
   "cell_type": "markdown",
   "metadata": {},
   "source": [
    "Baro type original code table\n",
    "\n",
    "```\n",
    "{\n",
    "\t\"1\":\"aneroid\",\n",
    "\t\"2\":\"mercurial\"\n",
    "}\n",
    "```\n",
    "Baro units original code table. It has been left like this:\n",
    "\n",
    "```\n",
    "{\n",
    "\t\"1\":\"inches\",\n",
    "\t\"2\":\"millimeters\",\n",
    "\t\"3\":\"millibars\",\n",
    "\t\"4\":\"unable to determine\",\n",
    "\t\"5\":\"Paris inches\"\n",
    "}\n",
    "```\n",
    "\n",
    "Our CDM table will be\n",
    "```\n",
    "{\n",
    "  \"1\":1001,\n",
    "  \"2\":1002,\n",
    "  \"3\":1003,\n",
    "  \"4\":9999,\n",
    "  \"5\":1005\n",
    "}\n",
    "```\n",
    "\n",
    "9999 will be the `\"fill_value\": 9999` that indicates to the CDM-mapper that these are NaN values.\n"
   ]
  },
  {
   "cell_type": "code",
   "execution_count": null,
   "metadata": {},
   "outputs": [],
   "source": [
    "data_obs = cdm_dict[\"observations-slp\"][\"data\"]\n",
    "data_obs.head()"
   ]
  }
 ],
 "metadata": {
  "language_info": {
   "codemirror_mode": {
    "name": "ipython",
    "version": 3
   },
   "file_extension": ".py",
   "mimetype": "text/x-python",
   "name": "python",
   "nbconvert_exporter": "python",
   "pygments_lexer": "ipython3",
   "version": "3.7.3"
  }
 },
 "nbformat": 4,
 "nbformat_minor": 4
}
