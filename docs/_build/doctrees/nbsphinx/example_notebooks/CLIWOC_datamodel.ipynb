{
 "cells": [
  {
   "cell_type": "markdown",
   "metadata": {},
   "source": [
    "## Generating a data model for CLIWOC"
   ]
  },
  {
   "cell_type": "markdown",
   "metadata": {},
   "source": [
    "### Creating a data model"
   ]
  },
  {
   "cell_type": "code",
   "execution_count": null,
   "metadata": {},
   "outputs": [],
   "source": [
    "from __future__ import annotations\n",
    "\n",
    "import json\n",
    "import os\n",
    "import shutil\n",
    "\n",
    "import pandas as pd\n",
    "\n",
    "from cdm_reader_mapper import mdf_reader, test_data\n",
    "\n",
    "try:\n",
    "    from importlib.resources import files as get_files\n",
    "except ImportError:\n",
    "    from importlib_resources import files as get_files\n",
    "\n",
    "from tempfile import TemporaryDirectory"
   ]
  },
  {
   "cell_type": "code",
   "execution_count": null,
   "metadata": {},
   "outputs": [],
   "source": [
    "schema = \"imma1\"\n",
    "data_file_path = test_data.test_063_714[\"source\"]\n",
    "data_raw = mdf_reader.read(data_file_path, data_model=schema)"
   ]
  },
  {
   "cell_type": "code",
   "execution_count": null,
   "metadata": {},
   "outputs": [],
   "source": [
    "data_raw.data[\"c99\"].head()"
   ]
  },
  {
   "cell_type": "code",
   "execution_count": null,
   "metadata": {},
   "outputs": [],
   "source": [
    "data_raw.data[\"c99\"].iloc[3]"
   ]
  },
  {
   "cell_type": "markdown",
   "metadata": {},
   "source": [
    "### Custom Schema\n",
    "\n",
    "To use a custom schema we need to use the `data_model_path` argument in `mdf_reader.read`. The structure of the directory is:\n",
    "\n",
    "```\n",
    "name_of_model/\n",
    "    name_of_model.json\n",
    "    code_tables/\n",
    "        ...\n",
    "```\n",
    "\n",
    "The `code_tables` sub-directory contains the code tables that map the key columns in the data to their values.\n",
    "\n",
    "In this demonstration we will create a new model in a temporary directory. It will be a copy of the `imma1_d703` schema and code tables."
   ]
  },
  {
   "cell_type": "code",
   "execution_count": null,
   "metadata": {},
   "outputs": [],
   "source": [
    "tmp_dir = TemporaryDirectory()\n",
    "model_name = \"imma1_d730\"\n",
    "my_model_path = os.path.join(tmp_dir.name, model_name)\n",
    "os.mkdir(my_model_path)\n",
    "\n",
    "# Load schema and save to json file\n",
    "schema = mdf_reader.schemas.read_schema(model_name)\n",
    "json_object = json.dumps(schema, indent=2)\n",
    "\n",
    "with open(os.path.join(my_model_path, model_name + \".json\"), \"w\") as outfile:\n",
    "    outfile.write(json_object)\n",
    "\n",
    "# Get code tables and copy to the directory\n",
    "code_tables_path = get_files(\n",
    "    \".\".join([mdf_reader.properties._base, \"code_tables\", \"imma1\"])\n",
    ")\n",
    "shutil.copytree(code_tables_path, os.path.join(my_model_path, \"code_tables\"))"
   ]
  },
  {
   "cell_type": "code",
   "execution_count": null,
   "metadata": {},
   "outputs": [],
   "source": [
    "data_file_path = test_data.test_133_730[\"source\"]\n",
    "data = mdf_reader.read(data_file_path, data_model_path=my_model_path)"
   ]
  },
  {
   "cell_type": "code",
   "execution_count": null,
   "metadata": {},
   "outputs": [],
   "source": [
    "data.data[[\"c99_sentinal\"]].head()"
   ]
  },
  {
   "cell_type": "code",
   "execution_count": null,
   "metadata": {},
   "outputs": [],
   "source": [
    "data.data[[\"c99_logbook\"]].c99_logbook.describe(include=\"all\")"
   ]
  },
  {
   "cell_type": "code",
   "execution_count": null,
   "metadata": {},
   "outputs": [],
   "source": [
    "pd.options.display.max_columns = None\n",
    "data.data[[\"c99_voyage\"]].c99_voyage.describe(include=\"all\")"
   ]
  },
  {
   "cell_type": "code",
   "execution_count": null,
   "metadata": {},
   "outputs": [],
   "source": [
    "data.data[[\"c99_voyage\"]].c99_voyage.ZeroMeridian.head()"
   ]
  },
  {
   "cell_type": "markdown",
   "metadata": {},
   "source": [
    "e.g. the ship types on this deck will be given in a tons of different languages. There is no code table for this variable in the CLIWOC website."
   ]
  },
  {
   "cell_type": "code",
   "execution_count": null,
   "metadata": {},
   "outputs": [],
   "source": [
    "data.data[[\"c99_voyage\"]].c99_voyage.Ship_type.dropna().head()"
   ]
  },
  {
   "cell_type": "code",
   "execution_count": null,
   "metadata": {},
   "outputs": [],
   "source": [
    "data.data[[\"c99_data\"]].c99_data.describe(include=\"all\")"
   ]
  },
  {
   "cell_type": "markdown",
   "metadata": {},
   "source": [
    "What about the different scales for the wind force, given different languages?"
   ]
  },
  {
   "cell_type": "code",
   "execution_count": null,
   "metadata": {},
   "outputs": [],
   "source": [
    "data.data[[\"c99_data\"]].c99_data.wind_force.head()"
   ]
  }
 ],
 "metadata": {
  "language_info": {
   "codemirror_mode": {
    "name": "ipython",
    "version": 3
   },
   "file_extension": ".py",
   "mimetype": "text/x-python",
   "name": "python",
   "nbconvert_exporter": "python",
   "pygments_lexer": "ipython3",
   "version": "3.12.3"
  }
 },
 "nbformat": 4,
 "nbformat_minor": 4
}
